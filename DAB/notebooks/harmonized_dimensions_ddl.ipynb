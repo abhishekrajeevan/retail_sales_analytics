{
 "cells": [
  {
   "cell_type": "code",
   "execution_count": 0,
   "metadata": {
    "application/vnd.databricks.v1+cell": {
     "cellMetadata": {
      "byteLimit": 2048000,
      "implicitDf": true,
      "rowLimit": 10000
     },
     "inputWidgets": {},
     "nuid": "219b8f99-6a19-462c-a305-2ea618a37ed8",
     "showTitle": false,
     "tableResultSettingsMap": {},
     "title": ""
    }
   },
   "outputs": [
    {
     "data": {
      "text/html": [
       "<style scoped>\n",
       "  .table-result-container {\n",
       "    max-height: 300px;\n",
       "    overflow: auto;\n",
       "  }\n",
       "  table, th, td {\n",
       "    border: 1px solid black;\n",
       "    border-collapse: collapse;\n",
       "  }\n",
       "  th, td {\n",
       "    padding: 5px;\n",
       "  }\n",
       "  th {\n",
       "    text-align: left;\n",
       "  }\n",
       "</style><div class='table-result-container'><table class='table-result'><thead style='background-color: white'><tr></tr></thead><tbody></tbody></table></div>"
      ]
     },
     "metadata": {
      "application/vnd.databricks.v1+output": {
       "addedWidgets": {},
       "aggData": [],
       "aggError": "",
       "aggOverflow": false,
       "aggSchema": [],
       "aggSeriesLimitReached": false,
       "aggType": "",
       "arguments": {},
       "columnCustomDisplayInfos": {},
       "data": [],
       "datasetInfos": [],
       "dbfsResultPath": null,
       "isJsonSchema": true,
       "metadata": {
        "dataframeName": null
       },
       "overflow": false,
       "plotOptions": {
        "customPlotOptions": {},
        "displayType": "table",
        "pivotAggregation": null,
        "pivotColumns": null,
        "xColumns": null,
        "yColumns": null
       },
       "removedWidgets": [],
       "schema": [],
       "type": "table"
      }
     },
     "output_type": "display_data"
    }
   ],
   "source": [
    "%sql\n",
    "create schema if not exists processing_catalog.schema_harmonized_dimension"
   ]
  },
  {
   "cell_type": "code",
   "execution_count": 0,
   "metadata": {
    "application/vnd.databricks.v1+cell": {
     "cellMetadata": {
      "byteLimit": 2048000,
      "implicitDf": true,
      "rowLimit": 10000
     },
     "inputWidgets": {},
     "nuid": "f091b3a4-5a34-47f7-910e-94994dff3210",
     "showTitle": false,
     "tableResultSettingsMap": {},
     "title": ""
    }
   },
   "outputs": [
    {
     "data": {
      "text/html": [
       "<style scoped>\n",
       "  .table-result-container {\n",
       "    max-height: 300px;\n",
       "    overflow: auto;\n",
       "  }\n",
       "  table, th, td {\n",
       "    border: 1px solid black;\n",
       "    border-collapse: collapse;\n",
       "  }\n",
       "  th, td {\n",
       "    padding: 5px;\n",
       "  }\n",
       "  th {\n",
       "    text-align: left;\n",
       "  }\n",
       "</style><div class='table-result-container'><table class='table-result'><thead style='background-color: white'><tr></tr></thead><tbody></tbody></table></div>"
      ]
     },
     "metadata": {
      "application/vnd.databricks.v1+output": {
       "addedWidgets": {},
       "aggData": [],
       "aggError": "",
       "aggOverflow": false,
       "aggSchema": [],
       "aggSeriesLimitReached": false,
       "aggType": "",
       "arguments": {},
       "columnCustomDisplayInfos": {},
       "data": [],
       "datasetInfos": [],
       "dbfsResultPath": null,
       "isJsonSchema": true,
       "metadata": {
        "dataframeName": null
       },
       "overflow": false,
       "plotOptions": {
        "customPlotOptions": {},
        "displayType": "table",
        "pivotAggregation": null,
        "pivotColumns": null,
        "xColumns": null,
        "yColumns": null
       },
       "removedWidgets": [],
       "schema": [],
       "type": "table"
      }
     },
     "output_type": "display_data"
    }
   ],
   "source": [
    "# %sql\n",
    "# CREATE TABLE IF NOT EXISTS processing_catalog.schema_harmonized_dimension.t_stores (\n",
    "#     store_id STRING NOT NULL COMMENT 'Primary key: Unique identifier for the store',\n",
    "#     store_name STRING NOT NULL COMMENT 'Name of the store',\n",
    "#     location STRING NOT NULL COMMENT 'Location of the store',\n",
    "#     manager_id STRING NOT NULL COMMENT 'Unique identifier for the store manager',\n",
    "#     opening_date DATE COMMENT 'Date when the store opened',\n",
    "#     -- AUDIT columns\n",
    "#     batch_r_timestamp TIMESTAMP COMMENT 'Audit column showing when the corresponding raw record was inserted',\n",
    "#     h_insert_timestamp TIMESTAMP DEFAULT current_timestamp() COMMENT 'Audit column showing when the record was inserted',\n",
    "#     h_update_timestamp TIMESTAMP DEFAULT current_timestamp() COMMENT 'Audit column showing when the record was updated',\n",
    "#     job_id  STRING NOT NULL COMMENT 'Audit column showing the job that inserted/updated the record'\n",
    "  \n",
    "#     --CONSTRAINT stores_pkey PRIMARY KEY (store_id)\n",
    "# )\n",
    "# USING DELTA\n",
    "# TBLPROPERTIES ('delta.feature.allowColumnDefaults' = 'supported')\n",
    "# COMMENT 'Harmonized table for cleaned stores data (SCD1)';"
   ]
  },
  {
   "cell_type": "code",
   "execution_count": 0,
   "metadata": {
    "application/vnd.databricks.v1+cell": {
     "cellMetadata": {
      "byteLimit": 2048000,
      "implicitDf": true,
      "rowLimit": 10000
     },
     "inputWidgets": {},
     "nuid": "ddaad0b8-430a-49f9-8e6a-7c9e34d0fdda",
     "showTitle": false,
     "tableResultSettingsMap": {},
     "title": ""
    }
   },
   "outputs": [
    {
     "data": {
      "text/html": [
       "<style scoped>\n",
       "  .table-result-container {\n",
       "    max-height: 300px;\n",
       "    overflow: auto;\n",
       "  }\n",
       "  table, th, td {\n",
       "    border: 1px solid black;\n",
       "    border-collapse: collapse;\n",
       "  }\n",
       "  th, td {\n",
       "    padding: 5px;\n",
       "  }\n",
       "  th {\n",
       "    text-align: left;\n",
       "  }\n",
       "</style><div class='table-result-container'><table class='table-result'><thead style='background-color: white'><tr></tr></thead><tbody></tbody></table></div>"
      ]
     },
     "metadata": {
      "application/vnd.databricks.v1+output": {
       "addedWidgets": {},
       "aggData": [],
       "aggError": "",
       "aggOverflow": false,
       "aggSchema": [],
       "aggSeriesLimitReached": false,
       "aggType": "",
       "arguments": {},
       "columnCustomDisplayInfos": {},
       "data": [],
       "datasetInfos": [],
       "dbfsResultPath": null,
       "isJsonSchema": true,
       "metadata": {
        "dataframeName": null
       },
       "overflow": false,
       "plotOptions": {
        "customPlotOptions": {},
        "displayType": "table",
        "pivotAggregation": null,
        "pivotColumns": null,
        "xColumns": null,
        "yColumns": null
       },
       "removedWidgets": [],
       "schema": [],
       "type": "table"
      }
     },
     "output_type": "display_data"
    }
   ],
   "source": [
    "# %sql\n",
    "# CREATE TABLE IF NOT EXISTS processing_catalog.schema_harmonized_dimension.t_customers (\n",
    "#     customer_id STRING NOT NULL COMMENT 'Primary key: Unique identifier for the customer',\n",
    "#     first_name STRING NOT NULL COMMENT 'First name of the customer',\n",
    "#     last_name STRING NOT NULL COMMENT 'Last name of the customer',\n",
    "#     email STRING COMMENT 'Email address of the customer',\n",
    "#     phone_number STRING COMMENT 'Phone number of the customer',\n",
    "#     loyalty_points INT DEFAULT 0 COMMENT 'Loyalty points earned by the customer',\n",
    "#     membership_status STRING DEFAULT 'Bronze' COMMENT 'Membership tier of the customer (Gold, Silver, Bronze)',\n",
    "#     address STRING COMMENT 'Residential address of the customer',\n",
    "#     update_timestamp STRING COMMENT 'update_timestamp coming from postgres(source). No significance',\n",
    "#     -- SCD2 Columns\n",
    "#     active_flag BOOLEAN DEFAULT true COMMENT 'Flag indicating if the record is the current version',\n",
    "#     begin_effective_date DATE DEFAULT current_date() COMMENT 'Start date for the record version',\n",
    "#     end_effective_date DATE DEFAULT date('9999-12-31') COMMENT 'End date for the record version',\n",
    "#     -- Audit Columns\n",
    "#     batch_r_timestamp TIMESTAMP COMMENT 'Audit column showing when the corresponding raw record was inserted',\n",
    "#     h_insert_timestamp TIMESTAMP DEFAULT current_timestamp() COMMENT 'Audit column showing when the record was inserted',\n",
    "#     h_update_timestamp TIMESTAMP DEFAULT current_timestamp() COMMENT 'Audit column showing when the record was updated',\n",
    "#     job_id STRING NOT NULL COMMENT 'Audit column showing the job that inserted/updated the record'\n",
    "#     -- Constraints\n",
    "#     -- CONSTRAINT customers_pkey PRIMARY KEY (customer_id),\n",
    "#     -- CONSTRAINT customers_email_key UNIQUE (email),\n",
    "#     -- CONSTRAINT customers_phone_number_key UNIQUE (phone_number),\n",
    "#     -- CONSTRAINT customers_membership_status_check CHECK (membership_status IN ('Gold', 'Silver', 'Bronze'))\n",
    "# )\n",
    "# USING DELTA\n",
    "# TBLPROPERTIES ('delta.feature.allowColumnDefaults' = 'supported')\n",
    "# COMMENT 'Harmonized table for customers with SCD2 support and audit columns';\n"
   ]
  },
  {
   "cell_type": "code",
   "execution_count": 0,
   "metadata": {
    "application/vnd.databricks.v1+cell": {
     "cellMetadata": {
      "byteLimit": 2048000,
      "implicitDf": true,
      "rowLimit": 10000
     },
     "inputWidgets": {},
     "nuid": "ef92eb17-552c-4c9f-9ec5-43758bc8666c",
     "showTitle": false,
     "tableResultSettingsMap": {},
     "title": ""
    }
   },
   "outputs": [
    {
     "data": {
      "text/html": [
       "<style scoped>\n",
       "  .table-result-container {\n",
       "    max-height: 300px;\n",
       "    overflow: auto;\n",
       "  }\n",
       "  table, th, td {\n",
       "    border: 1px solid black;\n",
       "    border-collapse: collapse;\n",
       "  }\n",
       "  th, td {\n",
       "    padding: 5px;\n",
       "  }\n",
       "  th {\n",
       "    text-align: left;\n",
       "  }\n",
       "</style><div class='table-result-container'><table class='table-result'><thead style='background-color: white'><tr></tr></thead><tbody></tbody></table></div>"
      ]
     },
     "metadata": {
      "application/vnd.databricks.v1+output": {
       "addedWidgets": {},
       "aggData": [],
       "aggError": "",
       "aggOverflow": false,
       "aggSchema": [],
       "aggSeriesLimitReached": false,
       "aggType": "",
       "arguments": {},
       "columnCustomDisplayInfos": {},
       "data": [],
       "datasetInfos": [],
       "dbfsResultPath": null,
       "isJsonSchema": true,
       "metadata": {
        "dataframeName": null
       },
       "overflow": false,
       "plotOptions": {
        "customPlotOptions": {},
        "displayType": "table",
        "pivotAggregation": null,
        "pivotColumns": null,
        "xColumns": null,
        "yColumns": null
       },
       "removedWidgets": [],
       "schema": [],
       "type": "table"
      }
     },
     "output_type": "display_data"
    }
   ],
   "source": [
    "%sql\n",
    "CREATE TABLE IF NOT EXISTS processing_catalog.schema_harmonized_dimension.t_products (\n",
    "    product_id STRING NOT NULL COMMENT 'Primary key: Unique identifier for the product',\n",
    "    product_name STRING NOT NULL COMMENT 'Name of the product',\n",
    "    brand STRING NOT NULL COMMENT 'Brand of the product',\n",
    "    category STRING NOT NULL COMMENT 'Category of the product',\n",
    "    gender STRING NOT NULL COMMENT 'Target gender for the product',\n",
    "    size STRING NOT NULL COMMENT 'Size of the product',\n",
    "    color STRING NOT NULL COMMENT 'Color of the product',\n",
    "    price DECIMAL(10,2) NOT NULL COMMENT 'Price of the product',\n",
    "    availability INT NOT NULL COMMENT 'Number of items available',\n",
    "    added_date DATE NOT NULL COMMENT 'Date the product was added to the catalog',\n",
    "    is_active BOOLEAN NOT NULL DEFAULT true COMMENT 'Flag indicating if the product is active',\n",
    "    -- Audit Columns\n",
    "    batch_r_timestamp TIMESTAMP COMMENT 'Audit column showing when the corresponding raw record was inserted',\n",
    "    h_insert_timestamp TIMESTAMP DEFAULT current_timestamp() COMMENT 'Audit column showing when the record was inserted',\n",
    "    h_update_timestamp TIMESTAMP DEFAULT current_timestamp() COMMENT 'Audit column showing when the record was updated',\n",
    "    job_id STRING NOT NULL COMMENT 'Audit column showing the job that inserted/updated the record'\n",
    "    -- Constraints\n",
    "    -- CONSTRAINT products_pkey PRIMARY KEY (product_id)\n",
    ")\n",
    "USING DELTA\n",
    "TBLPROPERTIES ('delta.feature.allowColumnDefaults' = 'supported')\n",
    "COMMENT 'Harmonized table for products with SCD1 support and audit columns';"
   ]
  },
  {
   "cell_type": "code",
   "execution_count": 0,
   "metadata": {
    "application/vnd.databricks.v1+cell": {
     "cellMetadata": {
      "byteLimit": 2048000,
      "rowLimit": 10000
     },
     "inputWidgets": {},
     "nuid": "59bb33cd-f53b-4359-be46-cc9abb8cd83e",
     "showTitle": false,
     "tableResultSettingsMap": {},
     "title": ""
    }
   },
   "outputs": [],
   "source": [
    "# spark"
   ]
  }
 ],
 "metadata": {
  "application/vnd.databricks.v1+notebook": {
   "computePreferences": null,
   "dashboards": [],
   "environmentMetadata": {
    "base_environment": "",
    "client": "1"
   },
   "language": "python",
   "notebookMetadata": {
    "mostRecentlyExecutedCommandWithImplicitDF": {
     "commandId": 304693538519350,
     "dataframes": [
      "_sqldf"
     ]
    },
    "pythonIndentUnit": 4
   },
   "notebookName": "harmonized_dimensions_ddl",
   "widgets": {}
  },
  "language_info": {
   "name": "python"
  }
 },
 "nbformat": 4,
 "nbformat_minor": 0
}
