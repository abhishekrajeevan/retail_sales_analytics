{
 "cells": [
  {
   "cell_type": "code",
   "execution_count": 0,
   "metadata": {
    "application/vnd.databricks.v1+cell": {
     "cellMetadata": {
      "byteLimit": 2048000,
      "implicitDf": true,
      "rowLimit": 10000
     },
     "inputWidgets": {},
     "nuid": "37997905-3635-4345-91b8-536542f67eae",
     "showTitle": false,
     "tableResultSettingsMap": {},
     "title": ""
    }
   },
   "outputs": [
    {
     "output_type": "display_data",
     "data": {
      "text/html": [
       "<style scoped>\n",
       "  .table-result-container {\n",
       "    max-height: 300px;\n",
       "    overflow: auto;\n",
       "  }\n",
       "  table, th, td {\n",
       "    border: 1px solid black;\n",
       "    border-collapse: collapse;\n",
       "  }\n",
       "  th, td {\n",
       "    padding: 5px;\n",
       "  }\n",
       "  th {\n",
       "    text-align: left;\n",
       "  }\n",
       "</style><div class='table-result-container'><table class='table-result'><thead style='background-color: white'><tr></tr></thead><tbody></tbody></table></div>"
      ]
     },
     "metadata": {
      "application/vnd.databricks.v1+output": {
       "addedWidgets": {},
       "aggData": [],
       "aggError": "",
       "aggOverflow": false,
       "aggSchema": [],
       "aggSeriesLimitReached": false,
       "aggType": "",
       "arguments": {},
       "columnCustomDisplayInfos": {},
       "data": [],
       "datasetInfos": [],
       "dbfsResultPath": null,
       "isJsonSchema": true,
       "metadata": {
        "dataframeName": null
       },
       "overflow": false,
       "plotOptions": {
        "customPlotOptions": {},
        "displayType": "table",
        "pivotAggregation": null,
        "pivotColumns": null,
        "xColumns": null,
        "yColumns": null
       },
       "removedWidgets": [],
       "schema": [],
       "type": "table"
      }
     },
     "output_type": "display_data"
    }
   ],
   "source": [
    "%sql\n",
    "create schema processing_catalog.schema_harmonized_facts"
   ]
  },
  {
   "cell_type": "code",
   "execution_count": 0,
   "metadata": {
    "application/vnd.databricks.v1+cell": {
     "cellMetadata": {
      "byteLimit": 2048000,
      "implicitDf": true,
      "rowLimit": 10000
     },
     "inputWidgets": {},
     "nuid": "1dd60993-ca95-4ee7-b5cf-514380a0f6a0",
     "showTitle": false,
     "tableResultSettingsMap": {},
     "title": ""
    }
   },
   "outputs": [
    {
     "output_type": "display_data",
     "data": {
      "text/html": [
       "<style scoped>\n",
       "  .table-result-container {\n",
       "    max-height: 300px;\n",
       "    overflow: auto;\n",
       "  }\n",
       "  table, th, td {\n",
       "    border: 1px solid black;\n",
       "    border-collapse: collapse;\n",
       "  }\n",
       "  th, td {\n",
       "    padding: 5px;\n",
       "  }\n",
       "  th {\n",
       "    text-align: left;\n",
       "  }\n",
       "</style><div class='table-result-container'><table class='table-result'><thead style='background-color: white'><tr></tr></thead><tbody></tbody></table></div>"
      ]
     },
     "metadata": {
      "application/vnd.databricks.v1+output": {
       "addedWidgets": {},
       "aggData": [],
       "aggError": "",
       "aggOverflow": false,
       "aggSchema": [],
       "aggSeriesLimitReached": false,
       "aggType": "",
       "arguments": {},
       "columnCustomDisplayInfos": {},
       "data": [],
       "datasetInfos": [],
       "dbfsResultPath": null,
       "isJsonSchema": true,
       "metadata": {
        "dataframeName": null
       },
       "overflow": false,
       "plotOptions": {
        "customPlotOptions": {},
        "displayType": "table",
        "pivotAggregation": null,
        "pivotColumns": null,
        "xColumns": null,
        "yColumns": null
       },
       "removedWidgets": [],
       "schema": [],
       "type": "table"
      }
     },
     "output_type": "display_data"
    }
   ],
   "source": [
    "%sql\n",
    "CREATE TABLE IF NOT EXISTS processing_catalog.schema_harmonized_facts.t_sales_transactions (\n",
    "    invoice_id STRING NOT NULL COMMENT 'Primary key: Unique identifier for the transaction',\n",
    "    transaction_date_time TIMESTAMP NOT NULL COMMENT 'Timestamp when the transaction occurred',\n",
    "    store_id STRING NOT NULL COMMENT 'Identifier for the store where the transaction occurred',\n",
    "    customer_id STRING COMMENT 'Identifier for the customer involved in the transaction',\n",
    "    employee_id STRING COMMENT 'Identifier for the employee handling the transaction',\n",
    "    payment_type STRING COMMENT 'Type of payment used in the transaction',\n",
    "    total_amount DECIMAL(10, 2) COMMENT 'Total amount for the transaction',\n",
    "    -- AUDIT columns\n",
    "    batch_r_timestamp TIMESTAMP COMMENT 'Audit column showing when the corresponding raw record was inserted',\n",
    "    h_insert_timestamp TIMESTAMP DEFAULT current_timestamp() COMMENT 'Audit column showing when the record was inserted',\n",
    "    h_update_timestamp TIMESTAMP DEFAULT current_timestamp() COMMENT 'Audit column showing when the record was updated',\n",
    "    job_id STRING NOT NULL COMMENT 'Audit column showing the job that inserted/updated the record',\n",
    "    -- PARTITION column\n",
    "    transaction_month DATE GENERATED ALWAYS AS (CAST(DATE_TRUNC('MONTH', transaction_date_time) AS DATE)) COMMENT 'Partition column',\n",
    "    CONSTRAINT t_sales_transactions_pkey PRIMARY KEY (invoice_id)\n",
    ")\n",
    "USING DELTA\n",
    "TBLPROPERTIES ('delta.feature.allowColumnDefaults' = 'supported')\n",
    "COMMENT 'Harmonized table for sales transactions data'\n",
    "PARTITIONED BY (transaction_month);"
   ]
  },
  {
   "cell_type": "code",
   "execution_count": 0,
   "metadata": {
    "application/vnd.databricks.v1+cell": {
     "cellMetadata": {
      "byteLimit": 2048000,
      "implicitDf": true,
      "rowLimit": 10000
     },
     "inputWidgets": {},
     "nuid": "3a58871a-9fdb-4691-862a-103a09ab8011",
     "showTitle": false,
     "tableResultSettingsMap": {},
     "title": ""
    }
   },
   "outputs": [
    {
     "output_type": "display_data",
     "data": {
      "text/html": [
       "<style scoped>\n",
       "  .table-result-container {\n",
       "    max-height: 300px;\n",
       "    overflow: auto;\n",
       "  }\n",
       "  table, th, td {\n",
       "    border: 1px solid black;\n",
       "    border-collapse: collapse;\n",
       "  }\n",
       "  th, td {\n",
       "    padding: 5px;\n",
       "  }\n",
       "  th {\n",
       "    text-align: left;\n",
       "  }\n",
       "</style><div class='table-result-container'><table class='table-result'><thead style='background-color: white'><tr></tr></thead><tbody></tbody></table></div>"
      ]
     },
     "metadata": {
      "application/vnd.databricks.v1+output": {
       "addedWidgets": {},
       "aggData": [],
       "aggError": "",
       "aggOverflow": false,
       "aggSchema": [],
       "aggSeriesLimitReached": false,
       "aggType": "",
       "arguments": {},
       "columnCustomDisplayInfos": {},
       "data": [],
       "datasetInfos": [],
       "dbfsResultPath": null,
       "isJsonSchema": true,
       "metadata": {
        "dataframeName": null
       },
       "overflow": false,
       "plotOptions": {
        "customPlotOptions": {},
        "displayType": "table",
        "pivotAggregation": null,
        "pivotColumns": null,
        "xColumns": null,
        "yColumns": null
       },
       "removedWidgets": [],
       "schema": [],
       "type": "table"
      }
     },
     "output_type": "display_data"
    }
   ],
   "source": [
    "%sql\n",
    "CREATE TABLE IF NOT EXISTS processing_catalog.schema_harmonized_facts.t_sales_line_items (\n",
    "    line_item_id STRING NOT NULL COMMENT 'Primary key: Unique identifier for the line item',\n",
    "    invoice_id STRING NOT NULL COMMENT 'Foreign key: Identifier for the associated transaction',\n",
    "    product_id STRING NOT NULL COMMENT 'Identifier for the product sold',\n",
    "    quantity INT COMMENT 'Quantity of the product sold',\n",
    "    unit_price DECIMAL(10, 2) COMMENT 'Price per unit of the product',\n",
    "    total_price DECIMAL(10, 2) COMMENT 'Total price for the line item',\n",
    "    discount_applied DECIMAL(10, 2) COMMENT 'Discount applied to the line item',\n",
    "    -- AUDIT columns\n",
    "    batch_r_timestamp TIMESTAMP COMMENT 'Audit column showing when the corresponding raw record was inserted',\n",
    "    h_insert_timestamp TIMESTAMP DEFAULT current_timestamp() COMMENT 'Audit column showing when the record was inserted',\n",
    "    h_update_timestamp TIMESTAMP DEFAULT current_timestamp() COMMENT 'Audit column showing when the record was updated',\n",
    "    job_id STRING NOT NULL COMMENT 'Audit column showing the job that inserted/updated the record',\n",
    "    CONSTRAINT t_sales_line_items_pkey PRIMARY KEY (line_item_id)\n",
    ")\n",
    "USING DELTA\n",
    "TBLPROPERTIES ('delta.feature.allowColumnDefaults' = 'supported')\n",
    "COMMENT 'Harmonized table for sales line items data';"
   ]
  }
 ],
 "metadata": {
  "application/vnd.databricks.v1+notebook": {
   "computePreferences": null,
   "dashboards": [],
   "environmentMetadata": {
    "base_environment": "",
    "client": "1"
   },
   "language": "python",
   "notebookMetadata": {
    "mostRecentlyExecutedCommandWithImplicitDF": {
     "commandId": 3880261220868934,
     "dataframes": [
      "_sqldf"
     ]
    },
    "pythonIndentUnit": 4
   },
   "notebookName": "harmonized_facts_ddl",
   "widgets": {}
  },
  "language_info": {
   "name": "python"
  }
 },
 "nbformat": 4,
 "nbformat_minor": 0
}