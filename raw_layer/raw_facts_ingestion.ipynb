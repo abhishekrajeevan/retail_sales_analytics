{
 "cells": [
  {
   "cell_type": "code",
   "execution_count": 0,
   "metadata": {
    "application/vnd.databricks.v1+cell": {
     "cellMetadata": {
      "byteLimit": 2048000,
      "rowLimit": 10000
     },
     "inputWidgets": {},
     "nuid": "7bd77ec1-641c-4635-b6ec-0f81344ac2af",
     "showTitle": false,
     "tableResultSettingsMap": {},
     "title": ""
    }
   },
   "outputs": [],
   "source": [
    "def copy_into_table(spark, table_name, source_path, file_format=\"CSV\", format_options=None):\n",
    "    \"\"\"\n",
    "    Executes a COPY INTO command to load data into a Delta table.\n",
    "    \n",
    "    Parameters:\n",
    "        spark (SparkSession): The active Spark session.\n",
    "        table_name (str): The full table name (e.g., schema_name.table_name).\n",
    "        source_path (str): The file path in DBFS or external storage.\n",
    "        file_format (str): The format of the source files (default is 'CSV').\n",
    "        format_options (dict): Additional format options (e.g., {'header': 'true'}).\n",
    "    \"\"\"\n",
    "    # Build the format options string\n",
    "    # format_options_str = \", \".join([f\"'{key}' = '{value}'\" for key, value in (format_options or {}).items()])\n",
    "    format_str_list = []\n",
    "    for key,value in format_options.items():\n",
    "        format_str_list.append(f\"'{key}'='{value}'\")\n",
    "\n",
    "    # create the options as a string\n",
    "    format_options_str = \", \".join(format_str_list)\n",
    "\n",
    "\n",
    "    \n",
    "    # Construct the SQL query\n",
    "    query = f\"\"\"\n",
    "    COPY INTO {table_name}\n",
    "    FROM '{source_path}'\n",
    "    FILEFORMAT = {file_format}\n",
    "    FORMAT_OPTIONS ({format_options_str});\n",
    "    \"\"\"\n",
    "    \n",
    "    # Execute the query\n",
    "    print(f\"Executing query:\\n{query}\")\n",
    "    spark.sql(query)\n"
   ]
  },
  {
   "cell_type": "code",
   "execution_count": 0,
   "metadata": {
    "application/vnd.databricks.v1+cell": {
     "cellMetadata": {
      "byteLimit": 2048000,
      "rowLimit": 10000
     },
     "inputWidgets": {},
     "nuid": "79855b18-cabe-45d4-b8b2-2c2cb1134bfa",
     "showTitle": false,
     "tableResultSettingsMap": {},
     "title": ""
    }
   },
   "outputs": [],
   "source": [
    "format_options = {\"header\": \"true\", \"delimiter\": \",\"}\n",
    "source_path  = \"/Volumes/landing_catalog/schema_landing/landing_external_volume/sales_line_items/sales_items_*.csv\"\n",
    "table_name = \"processing_catalog.schema_raw_facts.t_sales_line_items\""
   ]
  },
  {
   "cell_type": "code",
   "execution_count": 0,
   "metadata": {
    "application/vnd.databricks.v1+cell": {
     "cellMetadata": {
      "byteLimit": 2048000,
      "rowLimit": 10000
     },
     "inputWidgets": {},
     "nuid": "4c7c4742-c782-4194-aa21-1e8ede7df3f0",
     "showTitle": false,
     "tableResultSettingsMap": {},
     "title": ""
    }
   },
   "outputs": [
    {
     "output_type": "stream",
     "name": "stdout",
     "output_type": "stream",
     "text": [
      "Executing query:\n\n    COPY INTO processing_catalog.schema_raw_facts.t_sales_line_items\n    FROM '/Volumes/landing_catalog/schema_landing/landing_external_volume/sales_line_items/sales_items_*.csv'\n    FILEFORMAT = CSV\n    FORMAT_OPTIONS ('header'='true', 'delimiter'=',');\n    \n"
     ]
    }
   ],
   "source": [
    "# calling the function to insert data to the table\n",
    "copy_into_table(spark=spark, table_name=table_name, source_path=source_path, format_options = format_options)"
   ]
  }
 ],
 "metadata": {
  "application/vnd.databricks.v1+notebook": {
   "computePreferences": null,
   "dashboards": [],
   "environmentMetadata": {
    "base_environment": "",
    "client": "1"
   },
   "language": "python",
   "notebookMetadata": {
    "pythonIndentUnit": 4
   },
   "notebookName": "raw_facts_ingestion",
   "widgets": {}
  },
  "language_info": {
   "name": "python"
  }
 },
 "nbformat": 4,
 "nbformat_minor": 0
}